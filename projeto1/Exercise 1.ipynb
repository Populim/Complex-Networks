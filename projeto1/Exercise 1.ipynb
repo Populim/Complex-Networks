{
 "cells": [
  {
   "cell_type": "markdown",
   "metadata": {},
   "source": [
    "# Exercise 1"
   ]
  },
  {
   "cell_type": "markdown",
   "metadata": {},
   "source": [
    "## Matheus Steigenberg Populim - 10734710"
   ]
  },
  {
   "cell_type": "markdown",
   "metadata": {},
   "source": [
    "Importing essencial libraries and creating the network:"
   ]
  },
  {
   "cell_type": "code",
   "execution_count": 1,
   "metadata": {},
   "outputs": [],
   "source": [
    "import matplotlib.pyplot as plt\n",
    "import networkx as nx\n",
    "from numpy import *\n",
    "import numpy as np\n",
    "import warnings\n",
    "warnings.filterwarnings(\"ignore\")\n",
    "\n",
    "G = nx.Graph()\n",
    "G.add_edge('1','2')\n",
    "G.add_edge('1','4')\n",
    "G.add_edge('2','4')\n",
    "G.add_edge('4','3')\n",
    "G.add_edge('2','3')\n",
    "G.add_edge('3','5')\n",
    "G.add_edge('3','6')\n",
    "G.add_edge('3','7')\n",
    "G.add_edge('6','7')"
   ]
  },
  {
   "cell_type": "code",
   "execution_count": 2,
   "metadata": {},
   "outputs": [
    {
     "data": {
      "image/png": "[encoded data removed]",
      "text/plain": [
       "<Figure size 432x288 with 1 Axes>"
      ]
     },
     "metadata": {},
     "output_type": "display_data"
    }
   ],
   "source": [
    "labels = G.nodes()\n",
    "pos=nx.spring_layout(G)\n",
    "nx.draw_networkx(G, with_labels = True, nodecolor='r', edge_color='b', \n",
    "        node_size=500, font_size=16, pos=pos, width=6) \n",
    "plt.show()"
   ]
  },
  {
   "cell_type": "markdown",
   "metadata": {},
   "source": [
    "Now, let's take the number of nodes and edges"
   ]
  },
  {
   "cell_type": "code",
   "execution_count": 3,
   "metadata": {},
   "outputs": [
    {
     "name": "stdout",
     "output_type": "stream",
     "text": [
      "Number of nodes:  7 \n",
      "Number of edges: 9\n"
     ]
    }
   ],
   "source": [
    "N = len(G)\n",
    "M = G.number_of_edges()\n",
    "print(\"Number of nodes: \" , N , \"\\nNumber of edges:\", M)"
   ]
  },
  {
   "cell_type": "markdown",
   "metadata": {},
   "source": [
    "Defining a function that returns us the degree distribution:"
   ]
  },
  {
   "cell_type": "code",
   "execution_count": 4,
   "metadata": {},
   "outputs": [],
   "source": [
    "def degreeDistribution(G):\n",
    "    vk = dict(G.degree())\n",
    "    vk = list(vk.values())\n",
    "    vk = np.array(vk)\n",
    "    maxk = np.max(vk)\n",
    "    mink = np.min(vk)\n",
    "    kvalues = arange(0,maxk+1)\n",
    "    Pk = np.zeros(maxk+1) #create an array of zeros for counting the degree distribution\n",
    "    for k in vk:\n",
    "        Pk[k] = Pk[k] + 1\n",
    "    Pk = Pk/sum(Pk) #converting the values to probabilities\n",
    "    return kvalues,Pk    "
   ]
  },
  {
   "cell_type": "markdown",
   "metadata": {},
   "source": [
    "Plotting the distribution"
   ]
  },
  {
   "cell_type": "code",
   "execution_count": 5,
   "metadata": {
    "scrolled": true
   },
   "outputs": [
    {
     "data": {
      "image/png": "[encoded data removed]",
      "text/plain": [
       "<Figure size 432x288 with 1 Axes>"
      ]
     },
     "metadata": {
      "needs_background": "light"
     },
     "output_type": "display_data"
    }
   ],
   "source": [
    "ks, Pk = degreeDistribution(G)\n",
    "\n",
    "plt.figure()\n",
    "plt.bar(ks, height = Pk)\n",
    "plt.show()"
   ]
  },
  {
   "cell_type": "markdown",
   "metadata": {},
   "source": [
    "We can also calculate the second moment (variance) of the degree distribution by defining a function:"
   ]
  },
  {
   "cell_type": "code",
   "execution_count": 6,
   "metadata": {},
   "outputs": [],
   "source": [
    "def varianceDegreeDistribution(G):\n",
    "    k,Pk = degreeDistribution(G)\n",
    "    var = sum((k**2)*Pk) - (sum(k*Pk))**2\n",
    "    return var"
   ]
  },
  {
   "cell_type": "code",
   "execution_count": 7,
   "metadata": {},
   "outputs": [
    {
     "name": "stdout",
     "output_type": "stream",
     "text": [
      "Second moment of degree distribution:  1.387755102040817\n"
     ]
    }
   ],
   "source": [
    "print(\"Second moment of degree distribution: \", varianceDegreeDistribution(G))"
   ]
  },
  {
   "cell_type": "markdown",
   "metadata": {},
   "source": [
    "Now we're calculating the entropy of the degree distribution by Shannon's entropy formula:"
   ]
  },
  {
   "cell_type": "code",
   "execution_count": 8,
   "metadata": {},
   "outputs": [],
   "source": [
    "def shannonEntropy(G):\n",
    "    k,Pk = degreeDistribution(G)\n",
    "    H = 0\n",
    "    for p in Pk:\n",
    "        if(p > 0):\n",
    "            H = H - p*math.log(p, exp(1))\n",
    "    return H"
   ]
  },
  {
   "cell_type": "code",
   "execution_count": 9,
   "metadata": {},
   "outputs": [
    {
     "name": "stdout",
     "output_type": "stream",
     "text": [
      "Networks entropy:  1.277034259466139\n"
     ]
    }
   ],
   "source": [
    "print(\"Networks entropy: \", shannonEntropy(G))"
   ]
  },
  {
   "cell_type": "markdown",
   "metadata": {},
   "source": [
    "Now we're calculating the transitivy of the network:"
   ]
  },
  {
   "cell_type": "code",
   "execution_count": 10,
   "metadata": {},
   "outputs": [
    {
     "name": "stdout",
     "output_type": "stream",
     "text": [
      "Networks transitivity:  0.47368421052631576\n"
     ]
    }
   ],
   "source": [
    "print(\"Networks transitivity: \" ,nx.transitivity(G))"
   ]
  },
  {
   "cell_type": "markdown",
   "metadata": {},
   "source": [
    "And also the Clustering Coefficient of each node:"
   ]
  },
  {
   "cell_type": "code",
   "execution_count": 11,
   "metadata": {},
   "outputs": [
    {
     "data": {
      "image/png": "[encoded data removed]",
      "text/plain": [
       "<Figure size 432x288 with 1 Axes>"
      ]
     },
     "metadata": {
      "needs_background": "light"
     },
     "output_type": "display_data"
    }
   ],
   "source": [
    "vcc = []\n",
    "for i in G.nodes():\n",
    "    vcc.append(nx.clustering(G, i))\n",
    "vcc = np.array(vcc)\n",
    "plt.figure()\n",
    "nodenumbers = np.array(G.nodes())\n",
    "plt.bar(nodenumbers, height = vcc)\n",
    "plt.show()"
   ]
  },
  {
   "cell_type": "markdown",
   "metadata": {},
   "source": [
    "From the mean of the CC of all the nodes, we can get the Global Clustering Coefficient(GCC) of the network:"
   ]
  },
  {
   "cell_type": "code",
   "execution_count": 12,
   "metadata": {},
   "outputs": [
    {
     "name": "stdout",
     "output_type": "stream",
     "text": [
      "Global Clustering Coefficient:  0.6476190476190476\n"
     ]
    }
   ],
   "source": [
    "globalCC = sum(vcc)/G.number_of_nodes()\n",
    "print(\"Global Clustering Coefficient: \", globalCC)"
   ]
  },
  {
   "cell_type": "markdown",
   "metadata": {},
   "source": [
    "We can observe that the GCC is close to the network's transitivity. "
   ]
  },
  {
   "cell_type": "markdown",
   "metadata": {},
   "source": [
    "At last, we can show the network's adjacency matrix"
   ]
  },
  {
   "cell_type": "code",
   "execution_count": 13,
   "metadata": {},
   "outputs": [
    {
     "data": {
      "image/png": "[encoded data removed]",
      "text/plain": [
       "<Figure size 432x288 with 2 Axes>"
      ]
     },
     "metadata": {
      "needs_background": "light"
     },
     "output_type": "display_data"
    }
   ],
   "source": [
    "matrix = nx.to_numpy_matrix(G)\n",
    "plt.imshow(matrix)\n",
    "plt.colorbar()\n",
    "plt.show()"
   ]
  }
 ],
 "metadata": {
  "kernelspec": {
   "display_name": "Python 3",
   "language": "python",
   "name": "python3"
  },
  "language_info": {
   "codemirror_mode": {
    "name": "ipython",
    "version": 3
   },
   "file_extension": ".py",
   "mimetype": "text/x-python",
   "name": "python",
   "nbconvert_exporter": "python",
   "pygments_lexer": "ipython3",
   "version": "3.7.3"
  }
 },
 "nbformat": 4,
 "nbformat_minor": 2
}
