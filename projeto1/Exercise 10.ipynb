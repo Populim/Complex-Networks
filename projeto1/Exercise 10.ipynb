{
 "cells": [
  {
   "cell_type": "markdown",
   "metadata": {},
   "source": [
    "# Exercise 10"
   ]
  },
  {
   "cell_type": "markdown",
   "metadata": {},
   "source": [
    "Importing essencial libraries:"
   ]
  },
  {
   "cell_type": "markdown",
   "metadata": {},
   "source": [
    "Let's analyze 3 big cities with the following measures:<br>\n",
    "1. Complexity measure (by Shannon's Entropy Formula).<br>\n",
    "<s>2. Average shortest path length</s>. It wasn't possible to calculate this measure for all cities due to its high time complexity. More details at this report end.<br>\n",
    "3. Clustering coefficient.\n",
    "4. Degree distribution."
   ]
  },
  {
   "cell_type": "code",
   "execution_count": 4,
   "metadata": {},
   "outputs": [],
   "source": [
    "import matplotlib.pyplot as plt\n",
    "import networkx as nx\n",
    "import collections\n",
    "from numpy import *\n",
    "import numpy as np\n",
    "import warnings\n",
    "warnings.filterwarnings(\"ignore\")\n",
    "import time"
   ]
  },
  {
   "cell_type": "markdown",
   "metadata": {},
   "source": [
    "## São Paulo"
   ]
  },
  {
   "cell_type": "code",
   "execution_count": 5,
   "metadata": {},
   "outputs": [
    {
     "name": "stdout",
     "output_type": "stream",
     "text": [
      "112039\n"
     ]
    }
   ],
   "source": [
    "G = nx.read_graphml(\"Sao_Paulo.graphml.xml\")\n",
    "print(G.number_of_nodes())"
   ]
  },
  {
   "cell_type": "code",
   "execution_count": 6,
   "metadata": {},
   "outputs": [
    {
     "name": "stdout",
     "output_type": "stream",
     "text": [
      "289314\n"
     ]
    }
   ],
   "source": [
    "print(G.number_of_edges())"
   ]
  },
  {
   "cell_type": "markdown",
   "metadata": {},
   "source": [
    "Defining the degree distribution function and calling it:"
   ]
  },
  {
   "cell_type": "code",
   "execution_count": 7,
   "metadata": {},
   "outputs": [],
   "source": [
    "def degreeDistribution(G):\n",
    "    vk = dict(G.degree())\n",
    "    vk = list(vk.values())\n",
    "    vk = np.array(vk)\n",
    "    maxk = np.max(vk)\n",
    "    mink = np.min(vk)\n",
    "    kvalues = arange(0,maxk+1)\n",
    "    Pk = np.zeros(maxk+1) #create an array of zeros for counting the degree distribution\n",
    "    for k in vk:\n",
    "        Pk[k] = Pk[k] + 1\n",
    "    Pk = Pk/sum(Pk) #converting the values to probabilities\n",
    "    return kvalues,Pk"
   ]
  },
  {
   "cell_type": "code",
   "execution_count": 8,
   "metadata": {},
   "outputs": [
    {
     "data": {
      "image/png": "[encoded data removed]",
      "text/plain": [
       "<Figure size 432x288 with 1 Axes>"
      ]
     },
     "metadata": {
      "needs_background": "light"
     },
     "output_type": "display_data"
    }
   ],
   "source": [
    "ks, Pk = degreeDistribution(G)\n",
    "\n",
    "plt.figure()\n",
    "plt.bar(ks, height = Pk)\n",
    "plt.title(\"Degree distribution of streets in Sao Paulo\")\n",
    "plt.show()"
   ]
  },
  {
   "cell_type": "code",
   "execution_count": 9,
   "metadata": {},
   "outputs": [],
   "source": [
    "def shannonEntropy(G):\n",
    "    k,Pk = degreeDistribution(G)\n",
    "    H = 0\n",
    "    for p in Pk:\n",
    "        if(p > 0):\n",
    "            H = H - p*math.log(p, 2)\n",
    "    return H"
   ]
  },
  {
   "cell_type": "markdown",
   "metadata": {},
   "source": [
    "G is a multigraph, and for calculating the average clustering, we must turn it to a normal graph:"
   ]
  },
  {
   "cell_type": "code",
   "execution_count": 10,
   "metadata": {},
   "outputs": [],
   "source": [
    "G = nx.Graph(G)"
   ]
  },
  {
   "cell_type": "markdown",
   "metadata": {},
   "source": [
    "At last, calculating the measures for Sao Paulo:"
   ]
  },
  {
   "cell_type": "code",
   "execution_count": 11,
   "metadata": {},
   "outputs": [
    {
     "name": "stdout",
     "output_type": "stream",
     "text": [
      "Average Clustering Coefficient of Sao Paulo:  0.05099771805650584\n",
      "Shannon Entropy of the network of Sao Paulo:  1.304174184361486\n"
     ]
    }
   ],
   "source": [
    "print(\"Average Clustering Coefficient of Sao Paulo: \", nx.average_clustering(G))\n",
    "print(\"Shannon Entropy of the network of Sao Paulo: \", shannonEntropy(G))"
   ]
  },
  {
   "cell_type": "markdown",
   "metadata": {},
   "source": [
    "## Paris"
   ]
  },
  {
   "cell_type": "markdown",
   "metadata": {},
   "source": [
    "Now, let's get the same measures from Paris:"
   ]
  },
  {
   "cell_type": "code",
   "execution_count": 12,
   "metadata": {},
   "outputs": [
    {
     "name": "stdout",
     "output_type": "stream",
     "text": [
      "10104\n"
     ]
    }
   ],
   "source": [
    "G = nx.read_graphml(\"Paris.graphml.xml\")\n",
    "print(G.number_of_nodes())"
   ]
  },
  {
   "cell_type": "code",
   "execution_count": 13,
   "metadata": {},
   "outputs": [
    {
     "name": "stdout",
     "output_type": "stream",
     "text": [
      "19770\n"
     ]
    }
   ],
   "source": [
    "print(G.number_of_edges())"
   ]
  },
  {
   "cell_type": "markdown",
   "metadata": {},
   "source": [
    "Getting the degree distribution:"
   ]
  },
  {
   "cell_type": "code",
   "execution_count": 14,
   "metadata": {
    "scrolled": true
   },
   "outputs": [
    {
     "data": {
      "image/png": "[encoded data removed]",
      "text/plain": [
       "<Figure size 432x288 with 1 Axes>"
      ]
     },
     "metadata": {
      "needs_background": "light"
     },
     "output_type": "display_data"
    }
   ],
   "source": [
    "ks, Pk = degreeDistribution(G)\n",
    "\n",
    "plt.figure()\n",
    "plt.bar(ks, height = Pk)\n",
    "plt.title(\"Degree distribution of streets in Paris\")\n",
    "plt.show()"
   ]
  },
  {
   "cell_type": "code",
   "execution_count": 15,
   "metadata": {},
   "outputs": [
    {
     "name": "stdout",
     "output_type": "stream",
     "text": [
      "Average Clustering Coefficient of Paris:  0.06785855672435291\n",
      "Shannon Entropy of the network of Paris:  1.3959662067422112\n"
     ]
    }
   ],
   "source": [
    "G = nx.Graph(G)\n",
    "print(\"Average Clustering Coefficient of Paris: \", nx.average_clustering(G))\n",
    "print(\"Shannon Entropy of the network of Paris: \", shannonEntropy(G))"
   ]
  },
  {
   "cell_type": "markdown",
   "metadata": {},
   "source": [
    "## New York"
   ]
  },
  {
   "cell_type": "code",
   "execution_count": 16,
   "metadata": {
    "scrolled": true
   },
   "outputs": [
    {
     "name": "stdout",
     "output_type": "stream",
     "text": [
      "55206\n"
     ]
    }
   ],
   "source": [
    "G = nx.read_graphml(\"New_York.graphml.xml\")\n",
    "print(G.number_of_nodes())"
   ]
  },
  {
   "cell_type": "code",
   "execution_count": 17,
   "metadata": {},
   "outputs": [
    {
     "name": "stdout",
     "output_type": "stream",
     "text": [
      "141040\n"
     ]
    }
   ],
   "source": [
    "print(G.number_of_edges())"
   ]
  },
  {
   "cell_type": "code",
   "execution_count": 18,
   "metadata": {},
   "outputs": [
    {
     "data": {
      "image/png": "[encoded data removed]",
      "text/plain": [
       "<Figure size 432x288 with 1 Axes>"
      ]
     },
     "metadata": {
      "needs_background": "light"
     },
     "output_type": "display_data"
    }
   ],
   "source": [
    "ks, Pk = degreeDistribution(G)\n",
    "\n",
    "plt.figure()\n",
    "plt.bar(ks, height = Pk)\n",
    "plt.title(\"Degree distribution of streets in New York\")\n",
    "plt.show()"
   ]
  },
  {
   "cell_type": "code",
   "execution_count": 19,
   "metadata": {},
   "outputs": [
    {
     "name": "stdout",
     "output_type": "stream",
     "text": [
      "Average Clustering Coefficient of New York:  0.04081091082232179\n",
      "Shannon Entropy of the network of New York:  1.4539500109772439\n"
     ]
    }
   ],
   "source": [
    "G = nx.Graph(G)\n",
    "print(\"Average Clustering Coefficient of New York: \", nx.average_clustering(G))\n",
    "print(\"Shannon Entropy of the network of New York: \", shannonEntropy(G))"
   ]
  },
  {
   "cell_type": "markdown",
   "metadata": {},
   "source": [
    "## Analysis "
   ]
  },
  {
   "cell_type": "markdown",
   "metadata": {},
   "source": [
    "We have the measures:\n",
    "<table style=\"width:80%\" align=\"left\">\n",
    "  <tr>\n",
    "    <th>Measure</th>  \n",
    "    <th>Average Clustering Coefficient</th>\n",
    "    <th>Shannon's Entropy</th>\n",
    "  </tr>\n",
    "  <tr>\n",
    "    <th>Sao Paulo</th>\n",
    "    <td>0.051</td>\n",
    "    <td>1.304</td>\n",
    "  </tr>\n",
    "  <tr>\n",
    "    <th>Paris</th>\n",
    "    <td>0.068</td>\n",
    "    <td>1.396</td>\n",
    "  </tr>\n",
    "  <tr>\n",
    "    <th>New York</th>\n",
    "    <td>0.041</td>\n",
    "    <td>1.454</td>\n",
    "  </tr>  \n",
    "</table>"
   ]
  },
  {
   "cell_type": "markdown",
   "metadata": {},
   "source": [
    "By Shannon's Entropy measures, we have that New York has the most complex network of streets, as well as the lowest clustering coefficient, which means that there aren't as many redundant connections, that is, there are less possible paths from one place to other. So, it's probably the most difficult city to navigate.<br>\n",
    "Comparing Paris and Sao Paulo, we can see that Paris network is slightly more complex than Sao Paulo's, but, on the other hand, we can also see that Paris has the highest clustering coefficient.<br>Facing this deadlock, we will need to recur to the degree distribution of each network. It's possible to see that the crossroads in Paris have less streets crossing it, which facilitates navigating the city. Therefore, I rank New York, Sao Paulo and Paris increasingly for easiness to navigate.<br>\n"
   ]
  },
  {
   "cell_type": "markdown",
   "metadata": {},
   "source": [
    "## Average Shortest Path Length's Complexity"
   ]
  },
  {
   "cell_type": "markdown",
   "metadata": {},
   "source": [
    "As I tried to run the function <i>nx.average_shortest_path_length(G)</i> on Sao Paulo's network over night and it didn't finished running, I thought that would be more efficient to estimate the time needed, and then taking a decision to run it or not, than just running it.<br><br>\n",
    "For that, I used my previous knowledge in computational complexity, and tried to learn some new things in Statistics about linear regression.<br> "
   ]
  },
  {
   "cell_type": "markdown",
   "metadata": {},
   "source": [
    "You can see the function's documentation <a href=\"https://networkx.github.io/documentation/stable/reference/algorithms/generated/networkx.algorithms.shortest_paths.generic.average_shortest_path_length.html#networkx.algorithms.shortest_paths.generic.average_shortest_path_length\">here</a>: <br>\n",
    "\n",
    "<br>\n",
    "It's known that the average sorthest path length function calculates the shortest path for each possible pair of nodes in the graph.<br>\n",
    "For each shorthest path, the Networkx library uses Dijkstra's Algorithm, which complexity is known for being $O(E\\cdot log(N))$. As our networks have a mean number of edges related to the number of nodes as $E = \\alpha \\cdot N$, we can rewrite its complexity as $O(N\\cdot log(N))$<br>\n",
    "As the function run this algorithm for each pair of nodes, we have $\\frac{N\\cdot (N-1)}{2}$ executions.<br>\n",
    "So, the complexity of this function can be given by $O(N^3\\cdot log(N))$.\n",
    "Now, for checking if this hypothesis is valid, I will calculate the time elapsed for running this function for different values of $N$, and trying to fit it with a third degree polynomial."
   ]
  },
  {
   "cell_type": "markdown",
   "metadata": {},
   "source": [
    "For simulating a geometric network, we will generate a random Strogatz Graph, which is a good aproximation for the networks we're working with."
   ]
  },
  {
   "cell_type": "code",
   "execution_count": 17,
   "metadata": {},
   "outputs": [
    {
     "data": {
      "image/png": "[encoded data removed]",
      "text/plain": [
       "<Figure size 432x288 with 1 Axes>"
      ]
     },
     "metadata": {
      "needs_background": "light"
     },
     "output_type": "display_data"
    }
   ],
   "source": [
    "G = nx.watts_strogatz_graph(1000, 4, 0.18)\n",
    "ks, Pk = degreeDistribution(G)\n",
    "\n",
    "plt.figure()\n",
    "plt.bar(ks, height = Pk)\n",
    "plt.show()"
   ]
  },
  {
   "cell_type": "code",
   "execution_count": 18,
   "metadata": {},
   "outputs": [],
   "source": [
    "#return a list with the graphs degrees, a list with the time elapsed, and the total time elapsed\n",
    "def getTimeGeometricGraph(base,step,r,avgdegree,degreevariance):\n",
    "    sizelist = list() #list containing the values of N\n",
    "    timelist = list() #list containing the time elapsed for running the function for a N size graph\n",
    "    \n",
    "    startloop = time.time()\n",
    "    for i in range(0,r):\n",
    "        size = base+i*step\n",
    "        sizelist.append(size)\n",
    "        G = nx.watts_strogatz_graph(size, avgdegree, degreevariance)\n",
    "        start = time.time()\n",
    "        a = nx.average_shortest_path_length(G)\n",
    "        end = time.time()\n",
    "        timelist.append(end-start)\n",
    "    eloop = time.time()\n",
    "    \n",
    "    return sizelist, timelist, eloop-startloop"
   ]
  },
  {
   "cell_type": "markdown",
   "metadata": {},
   "source": [
    "I will run the average shortest path length function for random geometric graphs with $N$ nodes, $N = (10,60,110,160,...,3010)$, being each node connected with aproximately other 4 nodes. For that, I created the function <i>getTimeGeometricGraph</i>."
   ]
  },
  {
   "cell_type": "markdown",
   "metadata": {},
   "source": [
    "After getting the values, I will fit them with a third degree polynomial."
   ]
  },
  {
   "cell_type": "code",
   "execution_count": 19,
   "metadata": {},
   "outputs": [
    {
     "name": "stdout",
     "output_type": "stream",
     "text": [
      "Time elapsed for all values:  1518.1224830150604\n",
      "           3             2\n",
      "3.308e-10 x + 7.734e-06 x + 0.0001836 x - 0.03105\n"
     ]
    }
   ],
   "source": [
    "r = 60\n",
    "step = 50\n",
    "base = 10\n",
    "\n",
    "x, y, tim = getTimeGeometricGraph(base,step,r,4,0.18)\n",
    "print(\"Time elapsed for all values: \", tim)\n",
    "\n",
    "degrees = np.polyfit(x,y,3)\n",
    "p3 = np.poly1d(degrees)\n",
    "print(p3)"
   ]
  },
  {
   "cell_type": "markdown",
   "metadata": {},
   "source": [
    "The blue line represent the data, and the red line is the estimated function."
   ]
  },
  {
   "cell_type": "code",
   "execution_count": 20,
   "metadata": {
    "scrolled": true
   },
   "outputs": [
    {
     "data": {
      "image/png": "[encoded data removed]",
      "text/plain": [
       "<Figure size 432x288 with 1 Axes>"
      ]
     },
     "metadata": {
      "needs_background": "light"
     },
     "output_type": "display_data"
    }
   ],
   "source": [
    "x1 = np.arange(base,base + (step * r))\n",
    "y1 = p3(x1)\n",
    "plt.plot(x,y,'b')\n",
    "plt.plot(x1, y1,'r')\n",
    "plt.show()"
   ]
  },
  {
   "cell_type": "code",
   "execution_count": 21,
   "metadata": {
    "scrolled": false
   },
   "outputs": [
    {
     "name": "stdout",
     "output_type": "stream",
     "text": [
      "[ 3.30793547e-10  7.73412244e-06  1.83607799e-04 -3.10466330e-02]\n"
     ]
    }
   ],
   "source": [
    "print(degrees)"
   ]
  },
  {
   "cell_type": "markdown",
   "metadata": {},
   "source": [
    "Applying this function to estimate the time needed to calculate the average shortest path length for each city, we have:<br>"
   ]
  },
  {
   "cell_type": "code",
   "execution_count": 23,
   "metadata": {},
   "outputs": [
    {
     "name": "stdout",
     "output_type": "stream",
     "text": [
      "\n",
      "Sao Paulo:  562331.7230930881 \n",
      "Paris:  1132.6290111658902 \n",
      "New York:  79237.90647309781\n"
     ]
    }
   ],
   "source": [
    "degrees = [ 3.30793547e-10,7.73412244e-06,  1.83607799e-04, -3.10466330e-02]\n",
    "pn = np.poly1d(degrees)\n",
    "print(\"\\nSao Paulo: \", pn(112039),\"\\nParis: \", pn(10104),\"\\nNew York: \", pn(55206))"
   ]
  },
  {
   "cell_type": "markdown",
   "metadata": {},
   "source": [
    "Sao Paulo: 562331 seconds(6.5 days).<br>\n",
    "Paris:     1132 seconds(19 minutes).<br>\n",
    "New York:  79237 seconds(22 hours).<br>"
   ]
  },
  {
   "cell_type": "markdown",
   "metadata": {},
   "source": [
    "Therefore, I will calculate the measure just for Paris."
   ]
  },
  {
   "cell_type": "code",
   "execution_count": 22,
   "metadata": {},
   "outputs": [
    {
     "name": "stdout",
     "output_type": "stream",
     "text": [
      "Average Shortest Path Length:  46.695331014148884\n",
      "Time elapsed:  1086.5500361919403\n",
      "Estimated time:  1132.629011063905\n"
     ]
    }
   ],
   "source": [
    "G = nx.read_graphml(\"Paris.graphml.xml\")\n",
    "start = time.time()\n",
    "value = nx.average_shortest_path_length(G)\n",
    "end = time.time()\n",
    "print(\"Average Shortest Path Length: \", value)\n",
    "print(\"Time elapsed: \", end-start)\n",
    "print(\"Estimated time: \", p3(G.number_of_nodes()))"
   ]
  }
 ],
 "metadata": {
  "kernelspec": {
   "display_name": "Python 3",
   "language": "python",
   "name": "python3"
  },
  "language_info": {
   "codemirror_mode": {
    "name": "ipython",
    "version": 3
   },
   "file_extension": ".py",
   "mimetype": "text/x-python",
   "name": "python",
   "nbconvert_exporter": "python",
   "pygments_lexer": "ipython3",
   "version": "3.7.3"
  }
 },
 "nbformat": 4,
 "nbformat_minor": 2
}
